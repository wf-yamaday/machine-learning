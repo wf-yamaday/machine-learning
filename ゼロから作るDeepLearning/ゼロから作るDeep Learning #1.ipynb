{
  "nbformat": 4,
  "nbformat_minor": 0,
  "metadata": {
    "colab": {
      "name": "ゼロから作るDeep Learning #1.ipynb",
      "version": "0.3.2",
      "provenance": [],
      "include_colab_link": true
    },
    "language_info": {
      "codemirror_mode": {
        "name": "ipython",
        "version": 3
      },
      "file_extension": ".py",
      "mimetype": "text/x-python",
      "name": "python",
      "nbconvert_exporter": "python",
      "pygments_lexer": "ipython3",
      "version": "3.6.2"
    },
    "kernelspec": {
      "display_name": "Python 3",
      "language": "python",
      "name": "python3"
    }
  },
  "cells": [
    {
      "cell_type": "markdown",
      "metadata": {
        "id": "view-in-github",
        "colab_type": "text"
      },
      "source": [
        "<a href=\"https://colab.research.google.com/github/wf-yamaday/machine-learning/blob/master/%E3%82%BC%E3%83%AD%E3%81%8B%E3%82%89%E4%BD%9C%E3%82%8BDeepLearning/%E3%82%BC%E3%83%AD%E3%81%8B%E3%82%89%E4%BD%9C%E3%82%8BDeep%20Learning%20%231.ipynb\" target=\"_parent\"><img src=\"https://colab.research.google.com/assets/colab-badge.svg\" alt=\"Open In Colab\"/></a>"
      ]
    },
    {
      "metadata": {
        "id": "G0w_bMnyK7I7",
        "colab_type": "text"
      },
      "cell_type": "markdown",
      "source": [
        "## パーセプトロンの実装\n",
        "### AND回路"
      ]
    },
    {
      "metadata": {
        "id": "5dHUDKxVK7I9",
        "colab_type": "code",
        "colab": {}
      },
      "cell_type": "code",
      "source": [
        "import numpy as np\n",
        "def AND(x1,x2):\n",
        "    x = np.array([x1, x2])\n",
        "    w = np.array([0.5, 0.5])\n",
        "    b = -0.7\n",
        "    tmp = np.sum(w*x) + b\n",
        "    if tmp <= 0:\n",
        "        return 0\n",
        "    else:\n",
        "        return 1"
      ],
      "execution_count": 0,
      "outputs": []
    },
    {
      "metadata": {
        "id": "_AKIGY1tK7JC",
        "colab_type": "text"
      },
      "cell_type": "markdown",
      "source": [
        "### 実行結果"
      ]
    },
    {
      "metadata": {
        "id": "asMES_0oK7JD",
        "colab_type": "code",
        "colab": {},
        "outputId": "2bfabc61-9d58-4711-8a74-3fe1385ae37c"
      },
      "cell_type": "code",
      "source": [
        "print(AND(0,0))\n",
        "print(AND(1,0))\n",
        "print(AND(0,1))\n",
        "print(AND(1,1))"
      ],
      "execution_count": 0,
      "outputs": [
        {
          "output_type": "stream",
          "text": [
            "0\n",
            "0\n",
            "0\n",
            "1\n"
          ],
          "name": "stdout"
        }
      ]
    },
    {
      "metadata": {
        "collapsed": true,
        "id": "OrdHVvPjK7JH",
        "colab_type": "text"
      },
      "cell_type": "markdown",
      "source": [
        "入力信号は，ニューロンに送られる際に，それぞれに固有の重みが乗算されます．\n",
        "複数ある入力信号はそれぞれ固有の重みを持ちます．その重みは，各信号の重要性をコントロールする要素として働きます．\n",
        "<b>重みが大きければ大きいほど，その重みに対応する信号の重要性が増します．</b>\n",
        "\n",
        "パーセプトンの動作原理を数式で表すと以下のようになります．\n",
        "$$\n",
        "f(x) = \\left\\{\n",
        "\\begin{array}{}\n",
        "0 & (w_1x_1 + w_2x_2 \\leqq \\theta )\\\\ \n",
        "1 & (w_1x_1 + w_2x_2 > \\theta )\n",
        "\\end{array}\n",
        "\\right.\n",
        "$$"
      ]
    },
    {
      "metadata": {
        "collapsed": true,
        "id": "UPWw3TZyK7JI",
        "colab_type": "text"
      },
      "cell_type": "markdown",
      "source": [
        "## 線形と非線形\n",
        "\n",
        "### XORゲート\n",
        "XORゲートは「排他的論理和」とも呼ばれる論理回路です．\n",
        "XORの真理値表は以下のようになります．\n",
        "\n",
        "| x<sub>1</sub> | x<sub>2</sub>| y |\n",
        "|:-----:|:-----:|:-----:|\n",
        "| 0 | 0 | 0 |\n",
        "| 1 | 0 | 1 |\n",
        "| 0 | 1 | 1 |\n",
        "| 1 | 1 | 0 |\n",
        "\n",
        "このような出力を表すことは，<b>単層のパーセプトン</b>では表すことはできません．\n",
        "単層のパーセプトンでは，１本の直線に分けた<b>線形</b>の領域しか表現できません．\n",
        "．\n",
        "### 多層パーセプトン\n",
        "\n",
        "パーセプトンの優れた点は\"パーセプトンを重ねることができる\"ということです．\n",
        "\n",
        "この\"パーセプトンを重ねることができる\"ということを利用して，XOR回路を実装してみましょう．．\n",
        "XOR回路はNAND回路とOR回路の組み合わせで実現することができます．"
      ]
    },
    {
      "metadata": {
        "collapsed": true,
        "id": "oxx-e78EK7JJ",
        "colab_type": "text"
      },
      "cell_type": "markdown",
      "source": [
        "### NAND回路"
      ]
    },
    {
      "metadata": {
        "id": "5z1UnUHCK7JJ",
        "colab_type": "code",
        "colab": {}
      },
      "cell_type": "code",
      "source": [
        "def NAND(x1,x2):\n",
        "    x = np.array([x1,x2])\n",
        "    w = np.array([-0.5,-0.5])\n",
        "    b = 0.7\n",
        "    tmp = np.sum(w*x) + b\n",
        "    if tmp <= 0:\n",
        "        return 0\n",
        "    else:\n",
        "        return 1"
      ],
      "execution_count": 0,
      "outputs": []
    },
    {
      "metadata": {
        "id": "vwLlWpjFK7JM",
        "colab_type": "text"
      },
      "cell_type": "markdown",
      "source": [
        "### OR回路"
      ]
    },
    {
      "metadata": {
        "id": "brDTmPFWK7JN",
        "colab_type": "code",
        "colab": {}
      },
      "cell_type": "code",
      "source": [
        "def OR(x1,x2):\n",
        "    x = np.array([x1,x2])\n",
        "    w = np.array([0.5,0.5])\n",
        "    b = -0.2\n",
        "    tmp = np.sum(w*x) + b\n",
        "    if tmp <= 0:\n",
        "        return 0\n",
        "    else:\n",
        "        return 1"
      ],
      "execution_count": 0,
      "outputs": []
    },
    {
      "metadata": {
        "id": "y6ijewFsK7JP",
        "colab_type": "text"
      },
      "cell_type": "markdown",
      "source": [
        "### XOR回路"
      ]
    },
    {
      "metadata": {
        "id": "Di4zDsICK7JQ",
        "colab_type": "code",
        "colab": {}
      },
      "cell_type": "code",
      "source": [
        "def XOR(x1,x2):\n",
        "    s1 = NAND(x1,x2)\n",
        "    s2 = OR(x1,x2)\n",
        "    y = AND(s1,s2)\n",
        "    return y"
      ],
      "execution_count": 0,
      "outputs": []
    },
    {
      "metadata": {
        "id": "CJERCIsCK7JU",
        "colab_type": "code",
        "colab": {},
        "outputId": "5a0b2254-dace-4e09-91ab-27894d0cc16f"
      },
      "cell_type": "code",
      "source": [
        "print(XOR(0,0))\n",
        "print(XOR(1,0))\n",
        "print(XOR(0,1))\n",
        "print(XOR(1,1))"
      ],
      "execution_count": 0,
      "outputs": [
        {
          "output_type": "stream",
          "text": [
            "0\n",
            "1\n",
            "1\n",
            "0\n"
          ],
          "name": "stdout"
        }
      ]
    },
    {
      "metadata": {
        "collapsed": true,
        "id": "pRDVj7JrK7JX",
        "colab_type": "text"
      },
      "cell_type": "markdown",
      "source": [
        "NAND回路とOR回路を用いてXOR回路を実現することができました．\n",
        "このように層を複数重ねたパーセプトンを<b>多層パーセプトン</b>と呼びます．"
      ]
    },
    {
      "metadata": {
        "id": "UxKXAfwSK7JY",
        "colab_type": "text"
      },
      "cell_type": "markdown",
      "source": [
        "# まとめ\n",
        "\n",
        "- パーセプトロンは入出力を備えたアルゴリズム．ある入力に対し決まった出力を返す．\n",
        "- パーセプトロンでは，「重み」と「バイアス」をパラメータとして設定する．\n",
        "- パーセプトロンを用いることで，ANDやORの論理回路を表現できる．\n",
        "- XOR回路は単層のパーセプトロンでは表現できない．\n",
        "- 2層のパーセプトロンを用いることでXOR回路を表現できる．\n",
        "- 単層のパーセプトロンは線形領域しか表現できない．これに対し多層のパーセプトロンは非線形領域を表現できる．\n",
        "- 多層のパーセプトロンは(理論上)コンピュータを表現できる．\n"
      ]
    },
    {
      "metadata": {
        "id": "vpArsAvcMVHx",
        "colab_type": "code",
        "colab": {}
      },
      "cell_type": "code",
      "source": [
        ""
      ],
      "execution_count": 0,
      "outputs": []
    }
  ]
}