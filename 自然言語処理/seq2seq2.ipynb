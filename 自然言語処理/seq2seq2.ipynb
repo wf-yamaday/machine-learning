{
  "nbformat": 4,
  "nbformat_minor": 0,
  "metadata": {
    "colab": {
      "name": "seq2seq2.ipynb",
      "version": "0.3.2",
      "provenance": [],
      "collapsed_sections": [],
      "toc_visible": true,
      "include_colab_link": true
    },
    "kernelspec": {
      "name": "python3",
      "display_name": "Python 3"
    }
  },
  "cells": [
    {
      "cell_type": "markdown",
      "metadata": {
        "id": "view-in-github",
        "colab_type": "text"
      },
      "source": [
        "<a href=\"https://colab.research.google.com/github/wf-yamaday/machine-learning/blob/master/%E8%87%AA%E7%84%B6%E8%A8%80%E8%AA%9E%E5%87%A6%E7%90%86/seq2seq2.ipynb\" target=\"_parent\"><img src=\"https://colab.research.google.com/assets/colab-badge.svg\" alt=\"Open In Colab\"/></a>"
      ]
    },
    {
      "cell_type": "markdown",
      "metadata": {
        "id": "KMKCiMhJ2AnG",
        "colab_type": "text"
      },
      "source": [
        "# 自然言語処理\n",
        "\n",
        "自然言語処理にチャレンジしてみようということで日本語のChatBotを作成することをゴールに始めて見る．\n",
        "\n",
        "まずは訓練データとなる，**発話文とその返答文**を収集する．\n"
      ]
    },
    {
      "cell_type": "markdown",
      "metadata": {
        "id": "WEKgZBWbxHjA",
        "colab_type": "text"
      },
      "source": [
        "# 名大会話コーパス\n",
        "\n",
        "日本語母語話者同士の雑談を文字化したコーパスのこと．[ここ](https://mmsrv.ninjal.ac.jp/nucc/)からダウンロードできる．\n",
        "\n",
        "名大会話コーパスには以下のような特徴がある．\n",
        "\n",
        "- テキストファイルの最初には@で始まる部分があり，ヘッダーである．ヘッダーには，収録されている会話データの収集日や参加者の特性が記されている．また会話データの終了部分には，@ENDがフッターとして存在している．\n",
        "- `%:com` から始まる行に補足情報が記されている．\n",
        "- 各発話の初めには発話者のコードが記されている．発話者のコードは「Mxxx」，「Fxxx」(xは半角数字)で表されており，Mが男性，Fが女性である．\n",
        "- 聞き取れない部分には＊＊＊で表されている．\n",
        "- 相づちと思われる発話は()付けされている．\n",
        "- 一定の長さ以上の沈黙は＜間＞，笑いは＜笑い＞と表されている．\n",
        "- 発話データ内には，発言者名(「Mxxx」や「Fxxx」)が現れることがある．\n",
        "\n",
        "これらの特徴を踏まえテキストデータを整形する．\n",
        "\n",
        "\n"
      ]
    },
    {
      "cell_type": "markdown",
      "metadata": {
        "id": "9zKfaJZw4e1e",
        "colab_type": "text"
      },
      "source": [
        "まず使用するライブラリのインポートを行う．"
      ]
    },
    {
      "cell_type": "code",
      "metadata": {
        "id": "uy8JIAp34OT_",
        "colab_type": "code",
        "colab": {}
      },
      "source": [
        "import numpy as np\n",
        "import csv\n",
        "import glob\n",
        "import re"
      ],
      "execution_count": 0,
      "outputs": []
    },
    {
      "cell_type": "markdown",
      "metadata": {
        "id": "CFpHz80H4ccM",
        "colab_type": "text"
      },
      "source": [
        "次にgoogle colaboratoryにテキストファイルを読み込む．"
      ]
    },
    {
      "cell_type": "code",
      "metadata": {
        "id": "_jbNHGEV5H9q",
        "colab_type": "code",
        "outputId": "ad2a3492-74a0-45ca-9976-5ed9019c2b0b",
        "colab": {
          "base_uri": "https://localhost:8080/",
          "height": 34
        }
      },
      "source": [
        "from google.colab import drive\n",
        "drive.mount('/content/drive')"
      ],
      "execution_count": 0,
      "outputs": [
        {
          "output_type": "stream",
          "text": [
            "Drive already mounted at /content/drive; to attempt to forcibly remount, call drive.mount(\"/content/drive\", force_remount=True).\n"
          ],
          "name": "stdout"
        }
      ]
    },
    {
      "cell_type": "markdown",
      "metadata": {
        "id": "9KBQoDW36D2C",
        "colab_type": "text"
      },
      "source": [
        "ここまでで，テキストデータを読み込み準備が整った．\n",
        "次に，データの整形を行う関数を定義する．\n",
        "\n",
        "データの整形の関数で行うことは，\n",
        "\n",
        "1. ファイルを1行単位の配列に変換する\n",
        "1. 先頭が`%com:`の行を排除\n",
        "1. @から始まらない行に対し，以下の操作を行う．\n",
        "    - 不明文字`***`を`UNK`に置換する．\n",
        "    - 発話中に含まれる発言者名を `UNK`に置換する．\n",
        "    - "
      ]
    },
    {
      "cell_type": "code",
      "metadata": {
        "id": "qijDLNVeFxf6",
        "colab_type": "code",
        "colab": {}
      },
      "source": [
        "def format_data(fname, data2) :\n",
        "  f = open(fname, 'r')\n",
        "  df1 = csv.reader(f)\n",
        "  data1 = [ v for v in df1]\n",
        "\n",
        "  print(len(data1))\n",
        "  #ファイル読み込み\n",
        "  text = ''\n",
        "  for i in range(0,len(data1)):\n",
        "      if len(data1[i]) == 0:\n",
        "          print('null')\n",
        "          continue\n",
        "\n",
        "      s = data1[i][0]\n",
        "      if s[0:5] == \"％ｃｏｍ：\" :\n",
        "          continue\n",
        "      if s[0]  != '＠' :\n",
        "          #不明文字をUNKに置き換え\n",
        "          s = s.replace('＊＊＊','UNK')\n",
        "          #会話文セパレータ\n",
        "          if s[0] == 'F' or s[0] == 'M':\n",
        "              s = 'SSSS'+s[5:]\n",
        "          if s[0:2] == 'Ｘ：':\n",
        "              s = 'SSSS'+s[2:]\n",
        "\n",
        "          s = re.sub('F[0-9]{3}',\"UNK\",s)\n",
        "          s = re.sub('M[0-9]{3}',\"UNK\",s)\n",
        "          s = s.replace(\"＊\",\"\")\n",
        "      else :\n",
        "          continue\n",
        "\n",
        "      while s.find(\"（\") != -1 :\n",
        "          start_1 = s.find(\"（\")\n",
        "          if s.find(\"）\") != -1 :\n",
        "              end_1 = s.find(\"）\")\n",
        "              if start_1 >= end_1 :\n",
        "                  s = s.replace(s[end_1],\"\")\n",
        "              else :\n",
        "                  s = s.replace(s[start_1:end_1+1],\"\")\n",
        "              if len(s) == 0 :\n",
        "                  continue\n",
        "          else :\n",
        "              s=s[0:start_1]\n",
        "\n",
        "      while s.find(\"［\") != -1 :\n",
        "          start_2 = s.find(\"［\")\n",
        "          if s.find(\"］\") != -1 :\n",
        "              end_2=s.find(\"］\")\n",
        "              s=s.replace(s[start_2:end_2+1],\"\")\n",
        "          else :\n",
        "              s=s[0:start_2]    \n",
        "\n",
        "      while s.find(\"＜\") != -1 :\n",
        "          start_3 = s.find(\"＜\")\n",
        "          if s.find(\"＞\") != -1 :\n",
        "              end_3 = s.find(\"＞\")\n",
        "              s = s.replace(s[start_3:end_3+1],\"\")\n",
        "          else :\n",
        "              s = s[0:start_3] \n",
        "\n",
        "      while s.find(\"【\") != -1 :\n",
        "          start_4 = s.find(\"【\")\n",
        "          if s.find(\"】\") != -1 :\n",
        "              end_4 = s.find(\"】\")\n",
        "              s = s.replace(s[start_4:end_4+1],\"\")\n",
        "          else :\n",
        "              s = s[0:start_4] \n",
        "\n",
        "      #いろいろ削除したあとに文字が残っていたら出力文字列に追加\n",
        "      if s != \"\\n\" and s != \"SSSS\" :\n",
        "          text += s\n",
        "  #セパレータごとにファイル書き込み\n",
        "  text =text[4:]\n",
        "  while text.find(\"SSSS\") != -1 :\n",
        "      end_s = text.find(\"SSSS\")\n",
        "      t = text[0:end_s]\n",
        "      #長い会話文を分割\n",
        "      if end_s > 100 :\n",
        "          while len(t) > 100 :\n",
        "              if t.find(\"。\") != -1 :\n",
        "                  n_period = t.find(\"。\")\n",
        "                  data2.append(\"SSSS\"+t[0:n_period+1])\n",
        "                  t = t[n_period+1:]\n",
        "              else :\n",
        "                  break\n",
        "      data2.append(\"SSSS\"+t)\n",
        "      text = text[end_s+4:]\n",
        "  f.close()\n",
        "  return"
      ],
      "execution_count": 0,
      "outputs": []
    },
    {
      "cell_type": "markdown",
      "metadata": {
        "id": "Z24FBaxiHPwY",
        "colab_type": "text"
      },
      "source": [
        "これを発話が記録されてファイルごとに実行していく．\n",
        "今回は，自分のGoogle Driveのルートディレクトリ配下に`nucc`ディレクトリを配備している．"
      ]
    },
    {
      "cell_type": "code",
      "metadata": {
        "id": "HkMwkrRmKKVi",
        "colab_type": "code",
        "outputId": "cb254e8e-84b9-46fc-be2f-fb38d9310471",
        "colab": {
          "base_uri": "https://localhost:8080/",
          "height": 34
        }
      },
      "source": [
        "file_list = glob.glob('drive/My Drive/nucc/*')\n",
        "print(len(file_list))"
      ],
      "execution_count": 0,
      "outputs": [
        {
          "output_type": "stream",
          "text": [
            "129\n"
          ],
          "name": "stdout"
        }
      ]
    },
    {
      "cell_type": "code",
      "metadata": {
        "id": "AFCqf9P-gzDD",
        "colab_type": "code",
        "outputId": "be7eb446-77f1-45df-8a27-7bd00abf0de4",
        "colab": {
          "base_uri": "https://localhost:8080/",
          "height": 134
        }
      },
      "source": [
        "print(file_list[1])\n",
        "data_test = []\n",
        "format_data(file_list[1], data_test)\n",
        "f = open('drive/My Drive/nucc2/corpus_test.txt','w')\n",
        "f.write(str(data_test + \"\\n\")\n",
        "\n",
        "f.close()\n",
        "print(len(data_test))"
      ],
      "execution_count": 0,
      "outputs": [
        {
          "output_type": "error",
          "ename": "SyntaxError",
          "evalue": "ignored",
          "traceback": [
            "\u001b[0;36m  File \u001b[0;32m\"<ipython-input-39-40ae44ac32f1>\"\u001b[0;36m, line \u001b[0;32m5\u001b[0m\n\u001b[0;31m    f.write(str(data_test + \"\\n\")\u001b[0m\n\u001b[0m                                 ^\u001b[0m\n\u001b[0;31mSyntaxError\u001b[0m\u001b[0;31m:\u001b[0m unexpected EOF while parsing\n"
          ]
        }
      ]
    },
    {
      "cell_type": "code",
      "metadata": {
        "id": "d9HVIddZKmNo",
        "colab_type": "code",
        "outputId": "7d0e34ab-d1f7-48f6-98ec-c4a08c49223a",
        "colab": {
          "base_uri": "https://localhost:8080/",
          "height": 4522
        }
      },
      "source": [
        "data2=[]\n",
        "for j in range(0,len(file_list)) :\n",
        "    print(file_list[j])\n",
        "    format_data(file_list[j],data2)\n"
      ],
      "execution_count": 0,
      "outputs": [
        {
          "output_type": "stream",
          "text": [
            "drive/My Drive/nucc/data033.txt\n",
            "693\n",
            "drive/My Drive/nucc/data032.txt\n",
            "462\n",
            "drive/My Drive/nucc/data035.txt\n",
            "1445\n",
            "null\n",
            "drive/My Drive/nucc/data036.txt\n",
            "1250\n",
            "drive/My Drive/nucc/data037.txt\n",
            "1843\n",
            "null\n",
            "drive/My Drive/nucc/data034.txt\n",
            "517\n",
            "drive/My Drive/nucc/data031.txt\n",
            "1122\n",
            "drive/My Drive/nucc/data019.txt\n",
            "688\n",
            "drive/My Drive/nucc/data020.txt\n",
            "869\n",
            "drive/My Drive/nucc/data015.txt\n",
            "829\n",
            "drive/My Drive/nucc/data016.txt\n",
            "953\n",
            "drive/My Drive/nucc/data018.txt\n",
            "533\n",
            "drive/My Drive/nucc/data017.txt\n",
            "820\n",
            "drive/My Drive/nucc/data014.txt\n",
            "1277\n",
            "drive/My Drive/nucc/data025.txt\n",
            "1650\n",
            "drive/My Drive/nucc/data027.txt\n",
            "469\n",
            "drive/My Drive/nucc/data023.txt\n",
            "1096\n",
            "drive/My Drive/nucc/data026.txt\n",
            "1063\n",
            "drive/My Drive/nucc/data030.txt\n",
            "572\n",
            "drive/My Drive/nucc/data022.txt\n",
            "1505\n",
            "drive/My Drive/nucc/data024.txt\n",
            "2001\n",
            "drive/My Drive/nucc/data029.txt\n",
            "678\n",
            "drive/My Drive/nucc/data028.txt\n",
            "894\n",
            "drive/My Drive/nucc/data021.txt\n",
            "1013\n",
            "drive/My Drive/nucc/data008.txt\n",
            "1561\n",
            "drive/My Drive/nucc/data006.txt\n",
            "1358\n",
            "drive/My Drive/nucc/data007.txt\n",
            "805\n",
            "drive/My Drive/nucc/data010.txt\n",
            "1160\n",
            "drive/My Drive/nucc/data004.txt\n",
            "892\n",
            "drive/My Drive/nucc/data009.txt\n",
            "1640\n",
            "drive/My Drive/nucc/data005.txt\n",
            "1632\n",
            "drive/My Drive/nucc/data012.txt\n",
            "932\n",
            "drive/My Drive/nucc/data013.txt\n",
            "956\n",
            "drive/My Drive/nucc/data011.txt\n",
            "1121\n",
            "drive/My Drive/nucc/data002.txt\n",
            "1507\n",
            "drive/My Drive/nucc/data003.txt\n",
            "741\n",
            "drive/My Drive/nucc/data001.txt\n",
            "864\n",
            "drive/My Drive/nucc/data040.txt\n",
            "1074\n",
            "drive/My Drive/nucc/data038.txt\n",
            "809\n",
            "drive/My Drive/nucc/data039.txt\n",
            "680\n",
            "drive/My Drive/nucc/data116.txt\n",
            "1389\n",
            "drive/My Drive/nucc/data119.txt\n",
            "1493\n",
            "drive/My Drive/nucc/data120.txt\n",
            "682\n",
            "drive/My Drive/nucc/data115.txt\n",
            "590\n",
            "drive/My Drive/nucc/data117.txt\n",
            "1124\n",
            "drive/My Drive/nucc/data114.txt\n",
            "807\n",
            "drive/My Drive/nucc/data118.txt\n",
            "1100\n",
            "drive/My Drive/nucc/data125.txt\n",
            "947\n",
            "drive/My Drive/nucc/data129.txt\n",
            "610\n",
            "drive/My Drive/nucc/data128.txt\n",
            "801\n",
            "drive/My Drive/nucc/data127.txt\n",
            "922\n",
            "null\n",
            "drive/My Drive/nucc/data126.txt\n",
            "796\n",
            "null\n",
            "drive/My Drive/nucc/data124.txt\n",
            "611\n",
            "drive/My Drive/nucc/data123.txt\n",
            "1652\n",
            "drive/My Drive/nucc/data122.txt\n",
            "683\n",
            "drive/My Drive/nucc/data121.txt\n",
            "496\n",
            "null\n",
            "null\n",
            "drive/My Drive/nucc/data112.txt\n",
            "1472\n",
            "drive/My Drive/nucc/data113.txt\n",
            "1592\n",
            "drive/My Drive/nucc/data104.txt\n",
            "1390\n",
            "drive/My Drive/nucc/data109.txt\n",
            "806\n",
            "drive/My Drive/nucc/data105.txt\n",
            "919\n",
            "drive/My Drive/nucc/data107.txt\n",
            "925\n",
            "drive/My Drive/nucc/data111.txt\n",
            "872\n",
            "drive/My Drive/nucc/data110.txt\n",
            "721\n",
            "drive/My Drive/nucc/data106.txt\n",
            "765\n",
            "drive/My Drive/nucc/data108.txt\n",
            "804\n",
            "drive/My Drive/nucc/data102.txt\n",
            "1010\n",
            "drive/My Drive/nucc/data103.txt\n",
            "2485\n",
            "drive/My Drive/nucc/data094.txt\n",
            "457\n",
            "drive/My Drive/nucc/data099.txt\n",
            "705\n",
            "drive/My Drive/nucc/data096.txt\n",
            "1340\n",
            "drive/My Drive/nucc/data095.txt\n",
            "1097\n",
            "drive/My Drive/nucc/data100.txt\n",
            "1177\n",
            "drive/My Drive/nucc/data097.txt\n",
            "1065\n",
            "drive/My Drive/nucc/data101.txt\n",
            "754\n",
            "drive/My Drive/nucc/data098.txt\n",
            "1046\n",
            "drive/My Drive/nucc/data088.txt\n",
            "213\n",
            "drive/My Drive/nucc/data086.txt\n",
            "2005\n",
            "drive/My Drive/nucc/data085.txt\n",
            "1032\n",
            "drive/My Drive/nucc/data089.txt\n",
            "834\n",
            "drive/My Drive/nucc/data083.txt\n",
            "1117\n",
            "drive/My Drive/nucc/data090.txt\n",
            "627\n",
            "drive/My Drive/nucc/data092.txt\n",
            "1497\n",
            "drive/My Drive/nucc/data093.txt\n",
            "693\n",
            "drive/My Drive/nucc/data091.txt\n",
            "599\n",
            "drive/My Drive/nucc/data079.txt\n",
            "1361\n",
            "drive/My Drive/nucc/data075.txt\n",
            "511\n",
            "drive/My Drive/nucc/data074.txt\n",
            "660\n",
            "drive/My Drive/nucc/data080.txt\n",
            "1794\n",
            "drive/My Drive/nucc/data078.txt\n",
            "1466\n",
            "drive/My Drive/nucc/data077.txt\n",
            "2645\n",
            "drive/My Drive/nucc/data076.txt\n",
            "1509\n",
            "drive/My Drive/nucc/data087.txt\n",
            "3121\n",
            "drive/My Drive/nucc/data082.txt\n",
            "1176\n",
            "drive/My Drive/nucc/data084.txt\n",
            "1489\n",
            "drive/My Drive/nucc/data081.txt\n",
            "1567\n",
            "drive/My Drive/nucc/data070.txt\n",
            "863\n",
            "drive/My Drive/nucc/data066.txt\n",
            "1061\n",
            "drive/My Drive/nucc/data067.txt\n",
            "789\n",
            "drive/My Drive/nucc/data069.txt\n",
            "1026\n",
            "drive/My Drive/nucc/data068.txt\n",
            "724\n",
            "drive/My Drive/nucc/data064.txt\n",
            "541\n",
            "drive/My Drive/nucc/data065.txt\n",
            "926\n",
            "drive/My Drive/nucc/data073.txt\n",
            "825\n",
            "drive/My Drive/nucc/data072.txt\n",
            "2395\n",
            "drive/My Drive/nucc/data071.txt\n",
            "777\n",
            "drive/My Drive/nucc/data057.txt\n",
            "650\n",
            "drive/My Drive/nucc/data060.txt\n",
            "1285\n",
            "null\n",
            "drive/My Drive/nucc/data059.txt\n",
            "791\n",
            "drive/My Drive/nucc/data058.txt\n",
            "630\n",
            "drive/My Drive/nucc/data055.txt\n",
            "890\n",
            "drive/My Drive/nucc/data056.txt\n",
            "1133\n",
            "drive/My Drive/nucc/data054.txt\n",
            "343\n",
            "drive/My Drive/nucc/data063.txt\n",
            "483\n",
            "drive/My Drive/nucc/data062.txt\n",
            "420\n",
            "drive/My Drive/nucc/data061.txt\n",
            "1147\n",
            "drive/My Drive/nucc/data046.txt\n",
            "1745\n",
            "drive/My Drive/nucc/data048.txt\n",
            "896\n",
            "drive/My Drive/nucc/data047.txt\n",
            "590\n",
            "drive/My Drive/nucc/data044.txt\n",
            "718\n",
            "drive/My Drive/nucc/data049.txt\n",
            "1369\n",
            "drive/My Drive/nucc/data045.txt\n",
            "1136\n",
            "drive/My Drive/nucc/data050.txt\n",
            "1232\n",
            "drive/My Drive/nucc/data043.txt\n",
            "490\n",
            "drive/My Drive/nucc/data042.txt\n",
            "1323\n",
            "drive/My Drive/nucc/data053.txt\n",
            "455\n",
            "drive/My Drive/nucc/data052.txt\n",
            "1150\n",
            "drive/My Drive/nucc/data051.txt\n",
            "695\n",
            "drive/My Drive/nucc/data041.txt\n",
            "1064\n"
          ],
          "name": "stdout"
        }
      ]
    },
    {
      "cell_type": "code",
      "metadata": {
        "id": "gabD_d2dLGQp",
        "colab_type": "code",
        "outputId": "26fbe183-488e-42b2-e552-e7a5f96909ac",
        "colab": {
          "base_uri": "https://localhost:8080/",
          "height": 34
        }
      },
      "source": [
        "f = open('drive/My Drive/nucc2/corpus.txt','w')\n",
        "for i in range(0,len(data2)):\n",
        "    f.write(str(data2[i])+\"\\n\")\n",
        "f.close()\n",
        "print(len(data2))"
      ],
      "execution_count": 0,
      "outputs": [
        {
          "output_type": "stream",
          "text": [
            "83049\n"
          ],
          "name": "stdout"
        }
      ]
    },
    {
      "cell_type": "code",
      "metadata": {
        "id": "ovpAQNkhMTkh",
        "colab_type": "code",
        "outputId": "53355e53-288e-4012-818e-4df84e2fafab",
        "colab": {
          "base_uri": "https://localhost:8080/",
          "height": 51
        }
      },
      "source": [
        "!cat drive/My Drive/nucc2/corpus.txt"
      ],
      "execution_count": 0,
      "outputs": [
        {
          "output_type": "stream",
          "text": [
            "cat: drive/My: No such file or directory\n",
            "cat: Drive/nucc2/corpus.txt: No such file or directory\n"
          ],
          "name": "stdout"
        }
      ]
    },
    {
      "cell_type": "code",
      "metadata": {
        "id": "KXECEfdtNisR",
        "colab_type": "code",
        "colab": {}
      },
      "source": [
        ""
      ],
      "execution_count": 0,
      "outputs": []
    }
  ]
}