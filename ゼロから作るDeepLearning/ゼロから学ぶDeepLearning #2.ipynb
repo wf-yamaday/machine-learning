{
  "nbformat": 4,
  "nbformat_minor": 0,
  "metadata": {
    "colab": {
      "name": "ゼロから学ぶDeepLearning #2.ipynb",
      "version": "0.3.2",
      "provenance": [],
      "include_colab_link": true
    },
    "language_info": {
      "codemirror_mode": {
        "name": "ipython",
        "version": 3
      },
      "file_extension": ".py",
      "mimetype": "text/x-python",
      "name": "python",
      "nbconvert_exporter": "python",
      "pygments_lexer": "ipython3",
      "version": "3.6.2"
    },
    "kernelspec": {
      "display_name": "Python 3",
      "language": "python",
      "name": "python3"
    }
  },
  "cells": [
    {
      "cell_type": "markdown",
      "metadata": {
        "id": "view-in-github",
        "colab_type": "text"
      },
      "source": [
        "<a href=\"https://colab.research.google.com/github/wf-yamaday/machine-learning/blob/master/%E3%82%BC%E3%83%AD%E3%81%8B%E3%82%89%E4%BD%9C%E3%82%8BDeepLearning/%E3%82%BC%E3%83%AD%E3%81%8B%E3%82%89%E5%AD%A6%E3%81%B6DeepLearning%20%232.ipynb\" target=\"_parent\"><img src=\"https://colab.research.google.com/assets/colab-badge.svg\" alt=\"Open In Colab\"/></a>"
      ]
    },
    {
      "metadata": {
        "id": "0L5dYWGFMpPg",
        "colab_type": "text"
      },
      "cell_type": "markdown",
      "source": [
        "# ニューラルネットワーク\n",
        "\n",
        "パーセトンでは，重みを設定するという作業を人の手によって行わなければならないという弱点がありました．（重みを決める作業）\n",
        "\n",
        "ニューラルネットは，適切な重みパラメータをデータから自動で学習できます．\n",
        "\n",
        "### パーセプトンの復習\n",
        "x<sub>1</sub>とx<sub>2</sub>の２つの入力信号を受け取り，yを出力するパーセプトンは次の式で表されました．\n",
        "\n",
        "$$\n",
        "y = \\left\\{\n",
        "\\begin{array}\n",
        "& 0 & (b+w_1x_1+w_2x_2 \\leqq 0) \\\\\n",
        "1 & (b+w_1x_1+w_2x_2 > 0)\n",
        "\\end{array}\n",
        "\\tag{1.1}\n",
        "\\right.\n",
        "$$\n",
        "\n",
        "ここではbは「バイアス」と呼ばれるパラメータで，これはニューロの発火のしやすさをコントロールします．\n",
        "一方w<sub>1</sub>,w<sub>2</sub>は各信号の「重み」を表すパラメータで各信号の重要性をコントロールします．\n",
        "\n",
        "### 活性化関数の登場\n",
        "先ほどの式では，入力信号の総和とそれに対応する出力を表していました．\n",
        "ここでは，h()という関数を考え，入力信号の総和を計算してみたいと思います．先ほどの式は以下のようになります．\n",
        "\n",
        "$$\n",
        "h(a) = b+w_1x_1+w_2x_2 \\tag{1.2}\n",
        "$$\n",
        "\n",
        "$$\n",
        "y = h(a) \\tag{1.3}\n",
        "$$\n",
        "\n",
        "式(1.2)では重み付き入力信号とバイアスの総和を計算し，それをaとします．そして，式(1.3)でaがh()で変換されyが出力される．という流れになります．\n",
        "このh()という，入力信号の総和を出力信号に変換する関数を<b>活性化関数,</b>(activation function)と呼びます．\n",
        "\n",
        "式(1.1)で表される活性化関数は，閾値を境にして出力が切り替わる関数で，「ステップ関数」，「階段関数」と呼ばれます．\n",
        "そのため「パーセプトンでは，ステップ関数を利用している」と言うことができます．つまり多数の候補がある中でパーセプトンはステップ関数を利用しているのです．\n",
        "実は，この活性化関数をステップ関数から別の関数に切り替えることでニューラルネットワークの世界に進むことができるのです．\n",
        "\n",
        "\n",
        "### シグモイド関数\n",
        "\n",
        "$$\n",
        "h(x) = \\frac{1}{1+\\exp(-x)}　\\tag{1.4}\n",
        "$$\n",
        "\n",
        "式(1.4)で表されるシグモイド関数は一見複雑そうですが，xに何か入力すれば何らかの出力が返される単なる「関数」です．\n",
        "\n",
        "ニューラルネットワークではシグモイド関数を用いて信号の変換を行い，その変換された信号が次のニューロンに与えられます．\n",
        "それでは，活性化関数として利用されるシグモイド関数についてステップ関数と比較しながら見ていくことにしましょう．\n"
      ]
    },
    {
      "metadata": {
        "collapsed": true,
        "id": "ZL1kW9iGMpPh",
        "colab_type": "text"
      },
      "cell_type": "markdown",
      "source": [
        "## ステップ関数の実装\n",
        "\n",
        "ステップ関数は，入力が0を超えたら，１を出力し，それ以外は０を出力する関数でした．\n",
        "最も簡単に実装すると以下のようになるのではないでしょうか．"
      ]
    },
    {
      "metadata": {
        "id": "ub3DmYANMpPi",
        "colab_type": "code",
        "colab": {}
      },
      "cell_type": "code",
      "source": [
        "def step_function(x):\n",
        "    if x > 0:\n",
        "        return 1\n",
        "    else:\n",
        "        return 0"
      ],
      "execution_count": 0,
      "outputs": []
    },
    {
      "metadata": {
        "id": "FgmDNYvaMpPk",
        "colab_type": "code",
        "colab": {},
        "outputId": "41bc9cdc-5754-4374-bcb9-a18c8876ec3d"
      },
      "cell_type": "code",
      "source": [
        "print(step_function(1))\n",
        "print(step_function(0))"
      ],
      "execution_count": 0,
      "outputs": [
        {
          "output_type": "stream",
          "text": [
            "1\n",
            "0\n"
          ],
          "name": "stdout"
        }
      ]
    },
    {
      "metadata": {
        "id": "zd7iH8apMpPn",
        "colab_type": "text"
      },
      "cell_type": "markdown",
      "source": [
        "この実装法は簡単ですが，これでは引数に実数xしか与えることができません．\n",
        "もっと柔軟に対応するために引数にNumPy配列を取ることができるように改良して行きたいと思います．"
      ]
    },
    {
      "metadata": {
        "id": "D9WhHgr8MpPo",
        "colab_type": "code",
        "colab": {}
      },
      "cell_type": "code",
      "source": [
        "import numpy as np\n",
        "def step_function(x):\n",
        "    y = x > 0\n",
        "    return y.astype(np.int)"
      ],
      "execution_count": 0,
      "outputs": []
    },
    {
      "metadata": {
        "id": "NNvD-v36MpPq",
        "colab_type": "code",
        "colab": {},
        "outputId": "fbad2ea8-975a-4c41-bea8-3b70a5540017"
      },
      "cell_type": "code",
      "source": [
        "x=np.array([-1.0,3.0,2.0])\n",
        "step_function(x)"
      ],
      "execution_count": 0,
      "outputs": [
        {
          "output_type": "execute_result",
          "data": {
            "text/plain": [
              "array([0, 1, 1])"
            ]
          },
          "metadata": {
            "tags": []
          },
          "execution_count": 6
        }
      ]
    },
    {
      "metadata": {
        "id": "UesTfsz3MpPt",
        "colab_type": "text"
      },
      "cell_type": "markdown",
      "source": [
        "### ステップ関数のグラフ\n",
        "\n",
        "ステップ関数をグラフで表して見ましょう．グラフを描画するには，matplotlibを使用します．"
      ]
    },
    {
      "metadata": {
        "id": "ggJ6_QL3MpPu",
        "colab_type": "code",
        "colab": {},
        "outputId": "7704e64d-4e12-4896-a153-a748434c3436"
      },
      "cell_type": "code",
      "source": [
        "import matplotlib.pylab as plt\n",
        "x = np.arange(-5.0,5.0,0.1)\n",
        "y = step_function(x)\n",
        "plt.plot(x,y)\n",
        "plt.ylim(-0.1,1.1)\n",
        "plt.show()"
      ],
      "execution_count": 0,
      "outputs": [
        {
          "output_type": "display_data",
          "data": {
            "image/png": "[encoded data removed]",
            "text/plain": [
              "<matplotlib.figure.Figure at 0x1048ba978>"
            ]
          },
          "metadata": {
            "tags": []
          }
        }
      ]
    },
    {
      "metadata": {
        "id": "c_3V0w42MpPy",
        "colab_type": "text"
      },
      "cell_type": "markdown",
      "source": [
        "## シグモイド関数の実装\n",
        "\n",
        "式(1.4)で表されるシグモイド関数は，Pythonでは簡単に実装することができます．"
      ]
    },
    {
      "metadata": {
        "id": "GEvMmfyGMpPz",
        "colab_type": "code",
        "colab": {}
      },
      "cell_type": "code",
      "source": [
        "def sigmoid(x):\n",
        "    return 1 / (1 + np.exp(-x)) "
      ],
      "execution_count": 0,
      "outputs": []
    },
    {
      "metadata": {
        "id": "KA4g5JGRMpP1",
        "colab_type": "text"
      },
      "cell_type": "markdown",
      "source": [
        "### シグモイド関数のグラフ\n",
        "\n",
        "シグモイド関数のグラフを見てみましょう．"
      ]
    },
    {
      "metadata": {
        "scrolled": true,
        "id": "PJQfRjZVMpP1",
        "colab_type": "code",
        "colab": {},
        "outputId": "8e4f8734-d75a-4647-aad8-503656cfdc60"
      },
      "cell_type": "code",
      "source": [
        "x = np.arange(-5.0,5.0,0.1)\n",
        "y = sigmoid(x)\n",
        "plt.plot(x,y)\n",
        "plt.ylim(-0.1,1.1)\n",
        "plt.show()"
      ],
      "execution_count": 0,
      "outputs": [
        {
          "output_type": "display_data",
          "data": {
            "image/png": "[encoded data removed]",
            "text/plain": [
              "<matplotlib.figure.Figure at 0x1048ba780>"
            ]
          },
          "metadata": {
            "tags": []
          }
        }
      ]
    },
    {
      "metadata": {
        "collapsed": true,
        "id": "l1Uj4piKMpP3",
        "colab_type": "text"
      },
      "cell_type": "markdown",
      "source": [
        "### シグモイド関数とステップ関数の比較\n",
        "\n",
        "まず明らかにシグモイド関数の方が”滑らか”なグラフになります．\n",
        "これが意味するのは，入力に対して連続的に出力が変化するということです．\n",
        "ステップ関数が０か１のどちらかの値を返さないのに対し，シグモイド関数は実数を返します．つまり，パーセプトンでは，ニューロン間を0か１の信号が流れていたのに対し，ニューラルネットワークでは連続的な実数値の信号が流れます．\n",
        "\n",
        "どんなに信号の値が大きくても，出力信号の値を０から１の間に押し込めるのも両者の共通点です．\n",
        "\n",
        "### 非線形関数\n",
        "ステップ関数とシグモイド関数の重要な共通点は<b>非線形関数</b>であることです．\n",
        "シグモイド関数は曲線，ステップ関数は階段のような折れ曲がった直線で表されどちらも非線形な関数に分類されます．\n",
        "ニューラルネットワークでは，活性化関数に非線形関数を用いる必要があります．言い換えると<b>活性化関数には線形関数を用いてはならない</b>ということになります．\n",
        "線形関数の問題点はどんなに層を深くしても，それと同じことを行う「隠れ層のないネットワーク」が存在する，ということに起因します．\n",
        "例えば線形関数h(x) = cx を活性化関数として，y(x) = h(h(h(x)))を行う計算を３層のネットワークに対応させて考えることにします．\n",
        "この計算はy(x) = c*c*c*xのかけ算を行いますが，同じことはy(x) = a(x) a=c<sup>3</sup>の1回のかけ算でつまり隠れ層のないネットワークで表現できるのです．\n",
        "このように線形関数を用いた場合，多層にすることの利点を活かすことができません．\n",
        "そのため層を重ねることの恩恵を受けるためには，活性化関数に非線形関数を用いる必要があるのです．\n",
        "\n",
        "### ReLU関数\n",
        "\n",
        "シグモイド関数はニューラルネットワークの歴史において，古くから利用されてきました．しかし最近では，<b>ReLU関数</b>(Rectified Liner Unit)という関数が主に用いられます．ReLU関数は入力が０を超えてればその入力をそのまま出力し，0以下なら０を出力する関数です．\n",
        "$$\n",
        "h(x) = \\left\\{\n",
        "\\begin{array} \n",
        "&x &( x > 0)\\\\\n",
        "0 &( x \\leqq 0)\n",
        "\\end{array}\n",
        "\\tag{1,5}\n",
        "\\right.\n",
        "$$\n",
        "数式で表すと(1.5)のようになります．\n",
        "この関数をPythonで実装すると以下のようになります．"
      ]
    },
    {
      "metadata": {
        "id": "BAH-yjLuMpP4",
        "colab_type": "code",
        "colab": {}
      },
      "cell_type": "code",
      "source": [
        "def relu(x):\n",
        "    return np.maximum(0,x)"
      ],
      "execution_count": 0,
      "outputs": []
    },
    {
      "metadata": {
        "id": "FMZcdjtcMpP7",
        "colab_type": "code",
        "colab": {},
        "outputId": "51d111e5-f9f6-42e1-fd32-b9065f1e7f30"
      },
      "cell_type": "code",
      "source": [
        "print(relu(6))"
      ],
      "execution_count": 0,
      "outputs": [
        {
          "output_type": "stream",
          "text": [
            "6\n"
          ],
          "name": "stdout"
        }
      ]
    },
    {
      "metadata": {
        "collapsed": true,
        "id": "LpSoag_yMpP_",
        "colab_type": "text"
      },
      "cell_type": "markdown",
      "source": [
        "## 多次元配列の計算\n",
        "\n",
        "\n"
      ]
    },
    {
      "metadata": {
        "id": "sXaPKDsyNCOn",
        "colab_type": "code",
        "colab": {
          "base_uri": "https://localhost:8080/",
          "height": 34
        },
        "outputId": "4b953d0c-9b86-4e6e-b262-d975e9dc6f2f"
      },
      "cell_type": "code",
      "source": [
        "import numpy as np\n",
        "A = np.array([1,2,3,4])\n",
        "print(A)"
      ],
      "execution_count": 1,
      "outputs": [
        {
          "output_type": "stream",
          "text": [
            "[1 2 3 4]\n"
          ],
          "name": "stdout"
        }
      ]
    },
    {
      "metadata": {
        "id": "9NchpfYSNLnO",
        "colab_type": "code",
        "colab": {}
      },
      "cell_type": "code",
      "source": [
        ""
      ],
      "execution_count": 0,
      "outputs": []
    }
  ]
}