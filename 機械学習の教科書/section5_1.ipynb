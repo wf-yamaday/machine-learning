{
  "nbformat": 4,
  "nbformat_minor": 0,
  "metadata": {
    "colab": {
      "name": "section5-1.ipynb",
      "version": "0.3.2",
      "provenance": [],
      "include_colab_link": true
    },
    "kernelspec": {
      "name": "python3",
      "display_name": "Python 3"
    }
  },
  "cells": [
    {
      "cell_type": "markdown",
      "metadata": {
        "id": "view-in-github",
        "colab_type": "text"
      },
      "source": [
        "<a href=\"https://colab.research.google.com/github/wf-yamaday/machine-learning/blob/master/%E6%A9%9F%E6%A2%B0%E5%AD%A6%E7%BF%92%E3%81%AE%E6%95%99%E7%A7%91%E6%9B%B8/section5_1.ipynb\" target=\"_parent\"><img src=\"https://colab.research.google.com/assets/colab-badge.svg\" alt=\"Open In Colab\"/></a>"
      ]
    },
    {
      "metadata": {
        "id": "g1dsVBKBHpvj",
        "colab_type": "text"
      },
      "cell_type": "markdown",
      "source": [
        "# 機械学習\n",
        "## 教師あり学習・回帰\n",
        "回帰とは，入力に対して連続した数値を対応づける問題のことを指す．\n",
        "このノートでは，年齢xと身長tのデータセットで年齢xを入力変数に身長tを目標変数としてデータセットにない年齢xに対して身長tの予測を行う．"
      ]
    },
    {
      "metadata": {
        "id": "_JxMOKk6KtUK",
        "colab_type": "code",
        "colab": {}
      },
      "cell_type": "code",
      "source": [
        "import numpy as np\n",
        "import matplotlib.pyplot as plt\n",
        "%matplotlib inline"
      ],
      "execution_count": 0,
      "outputs": []
    },
    {
      "metadata": {
        "id": "mLWdqVmOK3yE",
        "colab_type": "code",
        "colab": {}
      },
      "cell_type": "code",
      "source": [
        "# データ生成\n",
        "np.random.seed(seed=1)\n",
        "X_min = 4 #年齢の下限（表示用）\n",
        "X_max = 30 # 年齢の上限（表示用）\n",
        "X_n = 16 #データセットの数\n",
        "X = 5 + 25 * np.random.rand(X_n)\n",
        "Prm_c = [170,108,0.2]\n",
        "T = Prm_c[0]-Prm_c[1]*np.exp(-Prm_c[2]*X)+ 4*np.random.randn(X_n) #A\n",
        "np.savez('ch5_data.npz',X=X,X_min=X_min,X_max=X_max,X_n=X_n,T=T)"
      ],
      "execution_count": 0,
      "outputs": []
    },
    {
      "metadata": {
        "id": "Ukv3PtAaMEeu",
        "colab_type": "text"
      },
      "cell_type": "markdown",
      "source": [
        "上のプログラムでは，16人分の年齢Xをランダムに決定している．\n",
        "AによってXからTを決定している．\n",
        "以下ではXの中身とTの中身を確認してみる．"
      ]
    },
    {
      "metadata": {
        "id": "F-rdKkiYJiGv",
        "colab_type": "code",
        "colab": {
          "base_uri": "https://localhost:8080/",
          "height": 136
        },
        "outputId": "11971ad4-1851-46e2-af3b-dc6824e5eb8d"
      },
      "cell_type": "code",
      "source": [
        "# Xの中身の確認\n",
        "print(X)\n",
        "print(np.round(X,2))\n",
        "# Tの中身の確認\n",
        "print(np.round(T,2))"
      ],
      "execution_count": 7,
      "outputs": [
        {
          "output_type": "stream",
          "text": [
            "[15.42555012 23.00811234  5.00285937 12.55831432  8.66889727  7.30846487\n",
            "  9.65650528 13.63901818 14.91918686 18.47041835 15.47986286 22.13048751\n",
            " 10.11130624 26.95293591  5.68468983 21.76168775]\n",
            "[15.43 23.01  5.   12.56  8.67  7.31  9.66 13.64 14.92 18.47 15.48 22.13\n",
            " 10.11 26.95  5.68 21.76]\n",
            "[170.91 160.68 129.   159.7  155.46 140.56 153.65 159.43 164.7  169.65\n",
            " 160.71 173.29 159.31 171.52 138.96 165.87]\n"
          ],
          "name": "stdout"
        }
      ]
    },
    {
      "metadata": {
        "id": "8JbmbLG9M76A",
        "colab_type": "text"
      },
      "cell_type": "markdown",
      "source": [
        "これらXとTを散布図にプロットしてみる．"
      ]
    },
    {
      "metadata": {
        "id": "jqXpaS_4h-PQ",
        "colab_type": "code",
        "colab": {
          "base_uri": "https://localhost:8080/",
          "height": 265
        },
        "outputId": "8e329958-4c71-4766-8770-02d3632ea552"
      },
      "cell_type": "code",
      "source": [
        "plt.figure(figsize=(4,4))\n",
        "plt.plot(X,T,marker='o',linestyle='None',markeredgecolor='black',color='cornflowerblue')\n",
        "plt.xlim(X_min,X_max)\n",
        "plt.grid(True)\n",
        "plt.show()"
      ],
      "execution_count": 8,
      "outputs": [
        {
          "output_type": "display_data",
          "data": {
            "image/png": "[encoded data removed]",
            "text/plain": [
              "<matplotlib.figure.Figure at 0x7f6d2a40df28>"
            ]
          },
          "metadata": {
            "tags": []
          }
        }
      ]
    },
    {
      "metadata": {
        "id": "vsQ5mxvQNdZB",
        "colab_type": "text"
      },
      "cell_type": "markdown",
      "source": [
        "## 直線モデル\n",
        "このデータセットから回帰直線を求める．  \n",
        "$$ y(x)=w_0x+w_1$$\n",
        "具体的にはデータセットから$w_0$と$w_1$の値を求めることを行う．  \n",
        "そのためには**二乗誤差関数**を用いる．誤差Jは以下の式で定義する．\n",
        "$$\n",
        "J = \\frac{1}{N}\\sum_{n=0}^{N-1}{(y_n - t_n)^2}\n",
        "$$\n",
        "これは平均二乗誤差(mean squire error)と呼ばれる．"
      ]
    },
    {
      "metadata": {
        "id": "_Ua6yazXN9mn",
        "colab_type": "code",
        "colab": {}
      },
      "cell_type": "code",
      "source": [
        ""
      ],
      "execution_count": 0,
      "outputs": []
    }
  ]
}