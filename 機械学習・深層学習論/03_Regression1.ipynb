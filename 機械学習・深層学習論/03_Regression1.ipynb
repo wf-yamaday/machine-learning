{
  "nbformat": 4,
  "nbformat_minor": 0,
  "metadata": {
    "colab": {
      "name": "03.Regression1.ipynb",
      "version": "0.3.2",
      "provenance": [],
      "include_colab_link": true
    },
    "language_info": {
      "codemirror_mode": {
        "name": "ipython",
        "version": 3
      },
      "file_extension": ".py",
      "mimetype": "text/x-python",
      "name": "python",
      "nbconvert_exporter": "python",
      "pygments_lexer": "ipython3",
      "version": "3.7.2"
    },
    "kernelspec": {
      "name": "python3",
      "display_name": "Python 3"
    },
    "accelerator": "GPU"
  },
  "cells": [
    {
      "cell_type": "markdown",
      "metadata": {
        "id": "view-in-github",
        "colab_type": "text"
      },
      "source": [
        "<a href=\"https://colab.research.google.com/github/wf-yamaday/machine-learning/blob/master/%E6%A9%9F%E6%A2%B0%E5%AD%A6%E7%BF%92%E3%83%BB%E6%B7%B1%E5%B1%A4%E5%AD%A6%E7%BF%92%E8%AB%96/03_Regression1.ipynb\" target=\"_parent\"><img src=\"https://colab.research.google.com/assets/colab-badge.svg\" alt=\"Open In Colab\"/></a>"
      ]
    },
    {
      "cell_type": "markdown",
      "metadata": {
        "id": "j9xmEdl9peLk",
        "colab_type": "text"
      },
      "source": [
        "# 回帰問題\n",
        "\n",
        "実際に解いてみる"
      ]
    },
    {
      "cell_type": "code",
      "metadata": {
        "id": "eVR0IE5VpeLl",
        "colab_type": "code",
        "colab": {}
      },
      "source": [
        "import numpy as np\n",
        "import matplotlib.pylab as plt\n",
        "import seaborn as sns; sns.set()"
      ],
      "execution_count": 0,
      "outputs": []
    },
    {
      "cell_type": "markdown",
      "metadata": {
        "id": "4TaNKVOrpeLn",
        "colab_type": "text"
      },
      "source": [
        "直線のモデル $y = a_{\\text{true}} x + b_{\\text{true}}$ を考える．\n",
        "データは，直線モデルから，ノイズが加えられて観測したとする．\n",
        "このときのノイズの標準偏差は $\\sigma = 0.2$ とする"
      ]
    },
    {
      "cell_type": "code",
      "metadata": {
        "id": "GpGnaK5MpeLo",
        "colab_type": "code",
        "colab": {}
      },
      "source": [
        "# さっきとはパラメータを変えているけど他意はないです．\n",
        "\n",
        "N = 40\n",
        "atrue = 1.2   #傾き\n",
        "btrue = 0.5  #切片\n",
        "sgm = 0.2  # ノイズの標準偏差\n",
        "\n",
        "x = np.random.rand(N)    # [0, 1) の区間に N 個の乱数発生\n",
        "ytrue = atrue * x + btrue\n",
        "\n",
        "y = ytrue  + sgm * np.random.randn(N)  # 真値にノイズを乗せて観測データを作る"
      ],
      "execution_count": 0,
      "outputs": []
    },
    {
      "cell_type": "code",
      "metadata": {
        "id": "yXhaTqGopeLp",
        "colab_type": "code",
        "colab": {}
      },
      "source": [
        "# ついでに 最小二乗法のコスト関数も定義しておく\n",
        "\n",
        "def E(a, b, xobs, yobs):\n",
        "    Ex = np.mean(xobs)\n",
        "    Ey = np.mean(yobs)\n",
        "    Exx = np.mean(xobs**2)\n",
        "    Eyy = np.mean(yobs**2)\n",
        "    Exy = np.mean(xobs * yobs)\n",
        "    \n",
        "    return 0.5 * (Eyy - 2 * a * Exy - 2 * b * Ey + a**2 * Exx + 2 * a * b * Ex + b**2)"
      ],
      "execution_count": 0,
      "outputs": []
    },
    {
      "cell_type": "markdown",
      "metadata": {
        "id": "SmExXG6GpeLr",
        "colab_type": "text"
      },
      "source": [
        "### これで下準備完了\n",
        "(x, y) にデータが入っている．これのプロットと真の直線の関係を見てみる"
      ]
    },
    {
      "cell_type": "code",
      "metadata": {
        "id": "jvAAfwaapeLr",
        "colab_type": "code",
        "colab": {}
      },
      "source": [
        "# 散布図を表示\n",
        "plt.plot(x, y, 'bo', label='data')\n",
        "\n",
        "\n",
        "# 真値も描画しておく\n",
        "xx = np.linspace(0, 1, 128)\n",
        "yy = a * xx + b\n",
        "\n",
        "plt.plot(xx, yy, 'r-', label='true')\n",
        "plt.xlim(0, 1)\n",
        "plt.ylim(0.4, 1.8)\n",
        "plt.legend()"
      ],
      "execution_count": 0,
      "outputs": []
    },
    {
      "cell_type": "markdown",
      "metadata": {
        "id": "cYOxKKb6peLt",
        "colab_type": "text"
      },
      "source": [
        "## 問い: データ点（青い点）のみから，もとになる直線（赤直線）を推定することは可能か？"
      ]
    },
    {
      "cell_type": "markdown",
      "metadata": {
        "id": "fb16pukypeLt",
        "colab_type": "text"
      },
      "source": [
        "データの点群を $\\{(x_n, y_n)\\}$ とし， 推定モデルを $f(x; w) = a x + b$ とおいて， $a$ と $b$ を推定することを考える．\n",
        "この問題は *最小二乗法* の問題で，　以下の関数（ロス関数と呼ばれる）\n",
        "$$\n",
        "    E(a, b) = \\frac{1}{N} \\sum_n (y_n - f(x_n))^2\n",
        "$$\n",
        "を，最小化する　$a, b$ を求めることを考える． \n",
        "\n",
        "### 要はモデル $f(x_n)$ と，観測点 $y_n$ の差（残差）が小さくなる $a, b$ を求める．\n",
        "\n",
        "\n",
        "この問題は，正規方程式\n",
        "$$\n",
        "    \\left(\\begin{array}{rr} N & \\sum x_n \\\\ \\sum x_n  & \\sum x_n^2 \\end{array}\\right) \n",
        "    \\left(\\begin{array}{r} b \\\\ a \\end{array}\\right)\n",
        "    =\n",
        "     \\left(\\begin{array}{r} \\sum y_n \\\\ \\sum x_n y_n \\end{array}\\right)\n",
        "$$\n",
        "を解けばよい（導出は講義で）．\n",
        "解は，\n",
        "$$\n",
        "    \\left(\\begin{array}{r} b \\\\ a \\end{array}\\right)\n",
        "    =\n",
        "    \\frac{1}{N \\sum x_n^2 - (\\sum x_n)^2}\n",
        "    \\left(\\begin{array}{rr} \\sum x_n^2  & - \\sum x_n \\\\ - \\sum x_n  & N\\end{array}\\right) \n",
        "     \\left(\\begin{array}{r} \\sum y_n \\\\ \\sum x_n y_n \\end{array}\\right)\n",
        "$$\n",
        "\n",
        "\n",
        "いくつかの平均値\n",
        "$$\n",
        "  E_x = \\frac{1}{N} \\sum_n x_n, \\:\n",
        "  E_y = \\frac{1}{N} \\sum_n y_n, \\:\n",
        "  E_{xx} = \\frac{1}{N} \\sum_n x_n^2, \\:\n",
        "  E_{xy} = \\frac{1}{N} \\sum_n x_n y_n\n",
        "$$\n",
        "を使った表現であれば，もう少し簡便にかけて\n",
        "$$\n",
        "    \\left(\\begin{array}{rr} 1 & E_x \\\\ E_x  & E_{xx} \\end{array}\\right) \n",
        "    \\left(\\begin{array}{r} b \\\\ a \\end{array}\\right)\n",
        "    =\n",
        "     \\left(\\begin{array}{r} E_y \\\\ E_{xy}\\end{array}\\right)\n",
        "$$\n",
        "が正規方程式となる．あとはこれを解けば良いので\n",
        "$$\n",
        "    \\left(\\begin{array}{r} b \\\\ a \\end{array}\\right)\n",
        "    =\n",
        "    \\frac{1}{E_{xx} - (E_x)^2}\n",
        "    \\left(\\begin{array}{rr} E_{xx} & -E_x \\\\ -E_x  & 1 \\end{array}\\right) \n",
        "    \\left(\\begin{array}{r} E_y \\\\ E_{xy}\\end{array}\\right)\n",
        "$$\n"
      ]
    },
    {
      "cell_type": "code",
      "metadata": {
        "id": "FLCfjDW6peLu",
        "colab_type": "code",
        "outputId": "ecd888be-834a-4c2c-99b4-eaefb817a4a8",
        "colab": {
          "base_uri": "https://localhost:8080/",
          "height": 34
        }
      },
      "source": [
        "# 最小二乗法から解をもとめてみる\n",
        "\n",
        "Ex = x.mean()\n",
        "Exx = (x**2).mean()\n",
        "Ey = y.mean()\n",
        "Exy = x@y / N\n",
        "\n",
        "det = Exx - (Ex)**2\n",
        "b = (Ey * Exx - Ex * Exy) / det\n",
        "a = (-Ex * Ey + Exy) / det\n",
        "\n",
        "print( \"a, b = (%.3f, %.3f)\" % (a, b))"
      ],
      "execution_count": 0,
      "outputs": [
        {
          "output_type": "stream",
          "text": [
            "a, b = (1.248, 0.523)\n"
          ],
          "name": "stdout"
        }
      ]
    },
    {
      "cell_type": "code",
      "metadata": {
        "id": "HCg_pDRupeLv",
        "colab_type": "code",
        "colab": {}
      },
      "source": [
        "# 等高線を使ってみてみる\n",
        "\n",
        "t = np.linspace(-1, 3, 64)\n",
        "aa, bb = np.meshgrid(t, t)\n",
        "\n",
        "\n",
        "# 指数関数を書いてみよう\n",
        "vv = np.exp( - E(aa, bb, xobs = x, yobs = y))\n",
        "\n",
        "h = plt.contour(aa, bb, vv)\n",
        "\n",
        "# 真値を描画しておく\n",
        "plt.scatter(atrue, btrue)\n",
        "\n",
        "# 推定値を赤で描画しておく\n",
        "plt.scatter(a, b)\n",
        "\n",
        "\n",
        "plt.xlabel('a')\n",
        "plt.ylabel('b')\n"
      ],
      "execution_count": 0,
      "outputs": []
    },
    {
      "cell_type": "code",
      "metadata": {
        "id": "_7F64wcNpeLx",
        "colab_type": "code",
        "colab": {}
      },
      "source": [
        "# 得られた直線が正しそうか　プロット してみよ\n",
        "\n",
        "plt.plot(x, y, 'bo', label='data')\n",
        "plt.grid()\n",
        "plt.xlim(0, 1)\n",
        "plt.ylim(0.4, 1.8)\n",
        "\n",
        "xx = np.linspace(0, 1, 128)\n",
        "yy = atrue * xx + btrue\n",
        "plt.plot(xx, yy, 'r-', label='true')\n",
        "yy = a * xx + b\n",
        "plt.plot(xx, yy, 'g-', label='estimate')\n",
        "plt.legend() # 凡例を描画"
      ],
      "execution_count": 0,
      "outputs": []
    },
    {
      "cell_type": "markdown",
      "metadata": {
        "id": "NjKyTNt9peLz",
        "colab_type": "text"
      },
      "source": [
        "ついでに，残差とロス関数値も評価しておこう．　残差は モデル $f(x) = a x + b$ が吐き出す予測値と $y$ の差の総和"
      ]
    },
    {
      "cell_type": "code",
      "metadata": {
        "id": "JVtwTyK1peL0",
        "colab_type": "code",
        "outputId": "d8cd875d-d489-4533-80be-46180a61616f",
        "colab": {
          "base_uri": "https://localhost:8080/",
          "height": 51
        }
      },
      "source": [
        "# 残差を表示させてみる\n",
        "\n",
        "residual = np.sum((y - (a * x + b))**2)\n",
        "print( \"Residual: %.3f\" % (residual))\n",
        "print( \"Mean squared error %.3f\" % (residual/N))   #1点あたりのズレ（平均二乗誤差）"
      ],
      "execution_count": 0,
      "outputs": [
        {
          "output_type": "stream",
          "text": [
            "Residual: 1.512\n",
            "Mean squared error 0.038\n"
          ],
          "name": "stdout"
        }
      ]
    },
    {
      "cell_type": "code",
      "metadata": {
        "id": "XyX0-lHfpeL2",
        "colab_type": "code",
        "colab": {}
      },
      "source": [
        "## 中心化を行ってデータ推定を行う場合を考えてみなさい\n"
      ],
      "execution_count": 0,
      "outputs": []
    },
    {
      "cell_type": "markdown",
      "metadata": {
        "id": "WONi2wo7peL4",
        "colab_type": "text"
      },
      "source": [
        "## うんだいたい良さげ\n",
        "\n",
        "でも，正規方程式とか面倒だよね．．．で，この演習では python のパッケージを使った機械学習手法を習得しましょうという話になります．\n",
        "紹介コードとしては，以下の２種を提供します．\n",
        "\n",
        "1. scikit-learn を使う\n",
        "2. Keras + Tensor 使う\n",
        "\n",
        "このレベルの問題であれば１を使うのが楽だけど，，後半の深層学習では，選択肢２がメインになるので，一応両方とも解法を記載します"
      ]
    },
    {
      "cell_type": "markdown",
      "metadata": {
        "id": "fbJ2estNpeL5",
        "colab_type": "text"
      },
      "source": [
        "## Scikit learn (sklearn) を使った解答\n",
        "\n",
        "やらなければいけないことは，\n",
        "\n",
        "1.  適切なモデルの `import`\n",
        "2. モデルのパラメータを適合させる `fit`\n",
        "\n",
        "だけ"
      ]
    },
    {
      "cell_type": "code",
      "metadata": {
        "id": "qzzgrSTdpeL5",
        "colab_type": "code",
        "outputId": "f453dfb1-f5d6-4a9b-f3bd-ebed42192165",
        "colab": {
          "base_uri": "https://localhost:8080/",
          "height": 51
        }
      },
      "source": [
        "# sklearn を使った解答\n",
        "\n",
        "from sklearn import linear_model   # 線形モデル導入\n",
        "from sklearn.metrics import mean_squared_error  # 平均二乗誤差\n",
        "\n",
        "# モデルは，回帰(regression) なので regr という変数として扱う\n",
        "regr = linear_model.LinearRegression()\n",
        "\n",
        "#線形回帰モデル(Linear Regression()) が期待しているデータ形式は，各行にデータが入っているものなので reshape して渡す\n",
        "regr.fit(x.reshape(N, 1), y.reshape(N,1))"
      ],
      "execution_count": 0,
      "outputs": [
        {
          "output_type": "execute_result",
          "data": {
            "text/plain": [
              "LinearRegression(copy_X=True, fit_intercept=True, n_jobs=None,\n",
              "         normalize=False)"
            ]
          },
          "metadata": {
            "tags": []
          },
          "execution_count": 9
        }
      ]
    },
    {
      "cell_type": "markdown",
      "metadata": {
        "id": "9t2Gz6zZpeL6",
        "colab_type": "text"
      },
      "source": [
        "モデルを定義しました．\n",
        "あとは, モデル内の fit() 関数を呼び出すだけでOK．\n",
        "fit したあとは， モデル内の coef_ と intercept_ を見ればそこに解が入っています"
      ]
    },
    {
      "cell_type": "code",
      "metadata": {
        "id": "aKUp_rtZpeL7",
        "colab_type": "code",
        "outputId": "42900847-c8b3-4bc2-caac-6ec250bdc54a",
        "colab": {
          "base_uri": "https://localhost:8080/",
          "height": 34
        }
      },
      "source": [
        "print(\"b, a= (%.3f, %.3f)\" % (regr.coef_, regr.intercept_))"
      ],
      "execution_count": 0,
      "outputs": [
        {
          "output_type": "stream",
          "text": [
            "b, a= (1.248, 0.523)\n"
          ],
          "name": "stdout"
        }
      ]
    },
    {
      "cell_type": "markdown",
      "metadata": {
        "id": "Gs3rcFXbpeL8",
        "colab_type": "text"
      },
      "source": [
        "OK,大体あってるぽい\n",
        "\n",
        "さらに詳しい使い方を知りたければ， scikit-learn の web ページを読むと良い（サンプルコードもいっぱいある，英語だけど）"
      ]
    },
    {
      "cell_type": "markdown",
      "metadata": {
        "id": "d3gYxmyRpeL8",
        "colab_type": "text"
      },
      "source": [
        "## Keras + TensorFlow を用いた解法\n",
        "\n",
        "TensorFlow は， Google が開発した深層学習要の枠組み（フレームワーク）です．\n",
        "これだけでも使えるけど， ややマニアックな嫌いがあるので， それを噛み砕いたインターフェースが Keras だと\n",
        "おもってもらってよいです（誤解をおそれずにいえばです．）\n",
        "\n",
        "というわけなので，普通は\n",
        "**こんな単純な回帰問題には使いません** ．\n",
        "ここでは雰囲気を味わうためにかいてます．"
      ]
    },
    {
      "cell_type": "markdown",
      "metadata": {
        "id": "hUVOihxmpeL9",
        "colab_type": "text"
      },
      "source": [
        "Keras + TensorFlow がやっているのは **勾配法** という手法です．\n",
        "scikit-learn や，正規方程式を解くみたいに問題解法をしているわけではありません．\n",
        "\n",
        "平たく言えば，現在与えられている $a, b$ の組をもとに，ロス関数が小さくなる方向を探して，\n",
        "その方向に動いていくような手段です．\n"
      ]
    },
    {
      "cell_type": "code",
      "metadata": {
        "id": "t3AFRk9opeL9",
        "colab_type": "code",
        "colab": {}
      },
      "source": [
        "# Keras を用いて実現せよ\n",
        "\n",
        "import keras\n",
        "from keras.models import Sequential\n",
        "from keras.layers.core import Dense, Activation\n",
        "\n",
        "model = Sequential()   # 階層型のモデルを選択\n",
        "model.add(Dense(1, input_shape=(1,), use_bias=True)) # 素子が一個の改装モデル\n",
        "\n",
        "model.compile(loss='mean_squared_error',  optimizer='sgd') #最適化手法を指定\n",
        "\n",
        "# 学習によるパラメータフィット\n",
        "hist = model.fit(x, y, epochs=512, batch_size=10, verbose=1)"
      ],
      "execution_count": 0,
      "outputs": []
    },
    {
      "cell_type": "code",
      "metadata": {
        "id": "pCSS5G8dpeL-",
        "colab_type": "code",
        "outputId": "82c7b68b-bd4d-4b25-af16-84d978ca90df",
        "colab": {
          "base_uri": "https://localhost:8080/",
          "height": 318
        }
      },
      "source": [
        "# ロスの値が学習によってどう変わっていくのかを表示してみる\n",
        "\n",
        "plt.plot(hist.history['loss'])\n",
        "plt.title('Loss Evolution')\n",
        "plt.xlabel('Epochs')\n",
        "plt.ylabel('loss')"
      ],
      "execution_count": 0,
      "outputs": [
        {
          "output_type": "execute_result",
          "data": {
            "text/plain": [
              "Text(0, 0.5, 'loss')"
            ]
          },
          "metadata": {
            "tags": []
          },
          "execution_count": 12
        },
        {
          "output_type": "display_data",
          "data": {
            "image/png": "[encoded data removed]",
            "text/plain": [
              "<Figure size 432x288 with 1 Axes>"
            ]
          },
          "metadata": {
            "tags": []
          }
        }
      ]
    },
    {
      "cell_type": "markdown",
      "metadata": {
        "id": "V_F3Wxt3peMA",
        "colab_type": "text"
      },
      "source": [
        "かなり頑張って前出のロス値付近に収束しているぽい．\n",
        "なので，　パラメータを取り出して確認してみる"
      ]
    },
    {
      "cell_type": "code",
      "metadata": {
        "id": "y-ttv__VpeMA",
        "colab_type": "code",
        "outputId": "d8ea9b4f-077b-435d-92ce-806bb4fda898",
        "colab": {
          "base_uri": "https://localhost:8080/",
          "height": 34
        }
      },
      "source": [
        "a, b = model.get_weights()\n",
        "print( \"b, a = (%.3f, %.3f)\" % (b, a))"
      ],
      "execution_count": 0,
      "outputs": [
        {
          "output_type": "stream",
          "text": [
            "b, a = (0.576, 1.140)\n"
          ],
          "name": "stdout"
        }
      ]
    },
    {
      "cell_type": "markdown",
      "metadata": {
        "id": "K-fn_RNapeMB",
        "colab_type": "text"
      },
      "source": [
        "推定直線とデータ，真の直線を重ねて見る"
      ]
    },
    {
      "cell_type": "code",
      "metadata": {
        "id": "DCaWrp3NpeMC",
        "colab_type": "code",
        "outputId": "e74611da-a852-4888-fde7-7b99000d5379",
        "colab": {
          "base_uri": "https://localhost:8080/",
          "height": 291
        }
      },
      "source": [
        "#w0 と w1 は，　np.array なので，使いやすいように float 型へ変換しておく\n",
        "b = float(b)\n",
        "a = float(a)\n",
        "\n",
        "# あとはプロット\n",
        "plt.plot(x, y, 'bo')\n",
        "plt.xlim(0, 1)\n",
        "plt.ylim(0.4, 1.8)\n",
        "\n",
        "xx = np.linspace(0, 1, 128)\n",
        "yy = atrue * xx + btrue\n",
        "plt.plot(xx, yy, 'r-')\n",
        "yy = a * xx + b\n",
        "plt.plot(xx, yy, 'g-')"
      ],
      "execution_count": 0,
      "outputs": [
        {
          "output_type": "execute_result",
          "data": {
            "text/plain": [
              "[<matplotlib.lines.Line2D at 0x7f5f802853c8>]"
            ]
          },
          "metadata": {
            "tags": []
          },
          "execution_count": 14
        },
        {
          "output_type": "display_data",
          "data": {
            "image/png": "[encoded data removed]",
            "text/plain": [
              "<Figure size 432x288 with 1 Axes>"
            ]
          },
          "metadata": {
            "tags": []
          }
        }
      ]
    },
    {
      "cell_type": "markdown",
      "metadata": {
        "id": "mSG1o_zhpeME",
        "colab_type": "text"
      },
      "source": [
        "多分，前述の解とは微妙にずれているが，そんなに致命的ではないのを確認してください.\n",
        "\n",
        "### 逆説的に言えば，機械学習による推定とは，そのくらいの誤差が含まれるものと認識してください．"
      ]
    }
  ]
}