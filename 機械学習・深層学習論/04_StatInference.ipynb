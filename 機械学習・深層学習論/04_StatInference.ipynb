{
  "nbformat": 4,
  "nbformat_minor": 0,
  "metadata": {
    "colab": {
      "name": "04.StatInference.ipynb",
      "version": "0.3.2",
      "provenance": [],
      "collapsed_sections": [],
      "include_colab_link": true
    },
    "language_info": {
      "codemirror_mode": {
        "name": "ipython",
        "version": 3
      },
      "file_extension": ".py",
      "mimetype": "text/x-python",
      "name": "python",
      "nbconvert_exporter": "python",
      "pygments_lexer": "ipython3",
      "version": "3.7.2"
    },
    "kernelspec": {
      "display_name": "Python 3",
      "language": "python",
      "name": "python3"
    }
  },
  "cells": [
    {
      "cell_type": "markdown",
      "metadata": {
        "id": "view-in-github",
        "colab_type": "text"
      },
      "source": [
        "<a href=\"https://colab.research.google.com/github/wf-yamaday/machine-learning/blob/master/%E6%A9%9F%E6%A2%B0%E5%AD%A6%E7%BF%92%E3%83%BB%E6%B7%B1%E5%B1%A4%E5%AD%A6%E7%BF%92%E8%AB%96/04_StatInference.ipynb\" target=\"_parent\"><img src=\"https://colab.research.google.com/assets/colab-badge.svg\" alt=\"Open In Colab\"/></a>"
      ]
    },
    {
      "cell_type": "markdown",
      "metadata": {
        "id": "qlulZvGh1NQ-",
        "colab_type": "text"
      },
      "source": [
        "# （ガウス分布を用いた）最尤推定"
      ]
    },
    {
      "cell_type": "code",
      "metadata": {
        "id": "HYXmxWQ11NRB",
        "colab_type": "code",
        "colab": {}
      },
      "source": [
        "mu = 1.0\n",
        "sigma = 0.5\n",
        "\n",
        "N = 100\n",
        "\n",
        "x = mu + sigma * np.random.randn(N)  # 正規乱数生成\n",
        "\n",
        "# データのヒストグラムを描いてみる（とりあえず可視化）\n",
        "plt.hist(x)  # N によってだいぶ形が変わることを確認すること"
      ],
      "execution_count": 0,
      "outputs": []
    },
    {
      "cell_type": "code",
      "metadata": {
        "id": "uWTzucDW1NQ_",
        "colab_type": "code",
        "colab": {}
      },
      "source": [
        "# なにはともあれおまじない\n",
        "\n",
        "import numpy as np\n",
        "import seaborn as sns; sns.set()\n",
        "import matplotlib.pylab as plt"
      ],
      "execution_count": 0,
      "outputs": []
    },
    {
      "cell_type": "code",
      "metadata": {
        "id": "i57jC1yJ1NRE",
        "colab_type": "code",
        "colab": {}
      },
      "source": [
        "# mu に対する対数尤度曲線を描いてみる\n",
        "\n",
        "def loglikelihood(m, s, x):\n",
        "    N = len(x)\n",
        "    Ex = np.sum(x)\n",
        "    Exx = np.sum(x**2)\n",
        "    c1 = -1/(2 * s**2) * (Exx -  2 * Ex * m + N * m**2)\n",
        "    c2 = -N/2 * np.log(s**2) - N/2 * np.log(2*np.pi)\n",
        "    return c1 + c2\n",
        "\n",
        "# あとは mu をいろいろな値に振って，対数尤度を求めてプロットする\n",
        "mm = np.linspace(-2, 2, 128)\n",
        "ll = loglikelihood(mm, s=sigma, x=x)\n",
        "\n",
        "plt.plot(mm, ll)\n",
        "\n",
        "plt.title('log likelihood curve')"
      ],
      "execution_count": 0,
      "outputs": []
    },
    {
      "cell_type": "code",
      "metadata": {
        "id": "PQ5Uy80O1NRG",
        "colab_type": "code",
        "colab": {}
      },
      "source": [
        "# 対数尤度を描く試行を繰り返して尤度曲線を描いてみる\n",
        "# とりあえず N = 100 回くらい\n",
        "mm = np.linspace(-2, 2, 128)\n",
        "N = 100\n",
        "\n",
        "for trial in range(5):\n",
        "    xN = mu + sigma * np.random.randn(N)  # 正規乱数生成\n",
        "    ll = loglikelihood(mm, s=sigma, x=xN)\n",
        "    plt.plot(mm, ll)\n",
        "\n",
        "plt.title('in N = %d' % (N))\n",
        "    "
      ],
      "execution_count": 0,
      "outputs": []
    },
    {
      "cell_type": "code",
      "metadata": {
        "id": "ZKGmcLpu1NRI",
        "colab_type": "code",
        "colab": {}
      },
      "source": [
        "# 同上の試行を繰り返して尤度曲線を描いてみる\n",
        "# N = 3 にすりとどうなる？\n",
        "\n",
        "mm = np.linspace(-2, 2, 128)\n",
        "N = 3\n",
        "\n",
        "for trial in range(5):\n",
        "    xN = mu + sigma * np.random.randn(N)  # 正規乱数生成\n",
        "    ll = loglikelihood(mm, s=sigma, x=xN)\n",
        "    plt.plot(mm, ll)\n",
        "\n",
        "plt.title('in N = %d' % (N))\n",
        "    "
      ],
      "execution_count": 0,
      "outputs": []
    }
  ]
}