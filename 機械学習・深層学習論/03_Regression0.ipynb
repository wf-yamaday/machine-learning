{
  "nbformat": 4,
  "nbformat_minor": 0,
  "metadata": {
    "colab": {
      "name": "03.Regression0.ipynb",
      "version": "0.3.2",
      "provenance": [],
      "include_colab_link": true
    },
    "language_info": {
      "codemirror_mode": {
        "name": "ipython",
        "version": 3
      },
      "file_extension": ".py",
      "mimetype": "text/x-python",
      "name": "python",
      "nbconvert_exporter": "python",
      "pygments_lexer": "ipython3",
      "version": "3.7.2"
    },
    "kernelspec": {
      "display_name": "Python 3",
      "language": "python",
      "name": "python3"
    }
  },
  "cells": [
    {
      "cell_type": "markdown",
      "metadata": {
        "id": "view-in-github",
        "colab_type": "text"
      },
      "source": [
        "<a href=\"https://colab.research.google.com/github/wf-yamaday/machine-learning/blob/master/%E6%A9%9F%E6%A2%B0%E5%AD%A6%E7%BF%92%E3%83%BB%E6%B7%B1%E5%B1%A4%E5%AD%A6%E7%BF%92%E8%AB%96/03_Regression0.ipynb\" target=\"_parent\"><img src=\"https://colab.research.google.com/assets/colab-badge.svg\" alt=\"Open In Colab\"/></a>"
      ]
    },
    {
      "cell_type": "markdown",
      "metadata": {
        "id": "mzdVBpJjorGH",
        "colab_type": "text"
      },
      "source": [
        "# 回帰問題\n",
        "\n",
        "$y = ax + b$ を題材に"
      ]
    },
    {
      "cell_type": "code",
      "metadata": {
        "id": "ynaU-q0PorGI",
        "colab_type": "code",
        "colab": {}
      },
      "source": [
        "import numpy as np\n",
        "import matplotlib.pylab as plt\n",
        "import seaborn as sns; sns.set()"
      ],
      "execution_count": 0,
      "outputs": []
    },
    {
      "cell_type": "markdown",
      "metadata": {
        "id": "wDjfqBHForGK",
        "colab_type": "text"
      },
      "source": [
        "## データの生成\n",
        "\n",
        "$N$ 点のデータを $[0, 1)$ の区間に生成し， $x$ とする．\n",
        "真のデータを $y_{\\text{true}} = a x + b$ で生成し，　ガウスノイズ $\\epsilon \\sim \\cal{N}(\\epsilon\\mid 0, \\sigma^2)$ を重畳した\n",
        "値 $y = y_{\\text{true}} + \\epsilon$ を観測データとする"
      ]
    },
    {
      "cell_type": "code",
      "metadata": {
        "id": "IxHtVdzZorGL",
        "colab_type": "code",
        "colab": {}
      },
      "source": [
        "# N 点のデータを [0, 1) の区間に生成\n",
        "# ytrue = ax + b で真値データを生成\n",
        "# y = ytrue + e で観測データを生成\n",
        "\n",
        "N = 30\n",
        "\n",
        "a = 1.0\n",
        "b = 0.0\n",
        "sigma = 0.1\n",
        "\n",
        "x = np.random.rand(N) # xに [0, 1) の乱数を N 個生成\n",
        "\n",
        "ytrue = a * x + b #真値を生成して\n",
        "\n",
        "y = ytrue + np.random.randn(N) * sigma #真値にノイズを載せて観測データを模擬する"
      ],
      "execution_count": 0,
      "outputs": []
    },
    {
      "cell_type": "code",
      "metadata": {
        "id": "wxvn0U5eorGM",
        "colab_type": "code",
        "colab": {}
      },
      "source": [
        "# とりあえず，データを眺めてみる\n",
        "\n",
        "# 青点は観測データ\n",
        "plt.scatter(x, y)\n",
        "plt.xlim((-0.2, 1.2))\n",
        "plt.ylim((-0.2, 1.2))\n",
        "\n",
        "# 真の直線も描画してみる\n",
        "# 緑線はデータを生成している直線\n",
        "\n",
        "xx = np.linspace(-0.2, 1.2, 128)\n",
        "yy = a * xx + b\n",
        "\n",
        "plt.plot(xx, yy, 'g-')\n",
        "\n",
        "# 念の為座標軸も描いておく\n",
        "plt.axhline()\n",
        "plt.axvline()\n",
        "\n",
        "# sigma の値を変えていろいろ描画してみること"
      ],
      "execution_count": 0,
      "outputs": []
    },
    {
      "cell_type": "markdown",
      "metadata": {
        "id": "g_HhdYYCorGO",
        "colab_type": "text"
      },
      "source": [
        "## データの中心化\n",
        "\n",
        "前処理として"
      ]
    },
    {
      "cell_type": "code",
      "metadata": {
        "id": "3UvuWyN1orGO",
        "colab_type": "code",
        "colab": {}
      },
      "source": [
        "# データの前処理\n",
        "# 中心化 (centering) を行ってみる\n",
        "\n",
        "# もとのデータを保存\n",
        "xorg = x\n",
        "yorg = y\n",
        "\n",
        "\n",
        "# 中心座標を求める\n",
        "Ex = np.mean(x)\n",
        "Ey = np.mean(y)\n",
        "\n",
        "x = x - Ex\n",
        "y = y - Ey"
      ],
      "execution_count": 0,
      "outputs": []
    },
    {
      "cell_type": "code",
      "metadata": {
        "id": "dWfW3XHIorGQ",
        "colab_type": "code",
        "colab": {}
      },
      "source": [
        "plt.plot(x, y, 'bo')\n",
        "plt.xlim((-0.7, 0.7))\n",
        "plt.ylim((-0.7, 0.7))\n",
        "\n",
        "# 念の為座標軸も描いておく\n",
        "plt.axhline()\n",
        "plt.axvline()"
      ],
      "execution_count": 0,
      "outputs": []
    },
    {
      "cell_type": "markdown",
      "metadata": {
        "id": "7TCxX2DworGR",
        "colab_type": "text"
      },
      "source": [
        "# 最小二乗法のために\n",
        "\n",
        "二乗誤差を計算してみるために関数 $E(a, b)$ を定義して描画してみる"
      ]
    },
    {
      "cell_type": "code",
      "metadata": {
        "id": "VxaPcdFyorGR",
        "colab_type": "code",
        "colab": {}
      },
      "source": [
        "# 最小二乗法のために\n",
        "\n",
        "def E(a, b, xobs, yobs):\n",
        "    Ex = np.mean(xobs)\n",
        "    Ey = np.mean(yobs)\n",
        "    Exx = np.mean(xobs**2)\n",
        "    Eyy = np.mean(yobs**2)\n",
        "    Exy = np.mean(xobs * yobs)\n",
        "    \n",
        "    return 0.5 * (Eyy - 2 * a * Exy - 2 * b * Ey + a**2 * Exx + 2 * a * b * Ex + b**2)\n"
      ],
      "execution_count": 0,
      "outputs": []
    },
    {
      "cell_type": "code",
      "metadata": {
        "id": "zc8PuBiMorGT",
        "colab_type": "code",
        "colab": {}
      },
      "source": [
        "# E(a, b=0)  と E(a, b=1) とを描画してみよう\n",
        "\n",
        "aa = np.linspace(-4, 4, 128)\n",
        "\n",
        "plt.plot(aa, E(aa, b=0, xobs=x, yobs=y))\n",
        "plt.plot(aa, E(aa, b=1, xobs=x, yobs=y))\n"
      ],
      "execution_count": 0,
      "outputs": []
    },
    {
      "cell_type": "code",
      "metadata": {
        "id": "N8sTSUdLorGU",
        "colab_type": "code",
        "colab": {}
      },
      "source": [
        "# E(a=0, b)  と E(a=1, b) とを描画してみよう\n",
        "\n",
        "bb = np.linspace(-4, 4, 128)\n",
        "\n",
        "plt.plot(bb, E(a = 0, b = bb, xobs=x, yobs=y))\n",
        "plt.plot(bb, E(a = 1, b = bb, xobs=x, yobs=y))\n"
      ],
      "execution_count": 0,
      "outputs": []
    },
    {
      "cell_type": "code",
      "metadata": {
        "id": "0R2hB0vaorGX",
        "colab_type": "code",
        "colab": {}
      },
      "source": [
        "# 等高線を使ってみてみる\n",
        "\n",
        "t = np.linspace(-4, 4, 64)\n",
        "aa, bb = np.meshgrid(t, t)\n",
        "\n",
        "\n",
        "# 指数関数を書いてみよう\n",
        "vv = np.exp( - E(aa, bb, xobs = x, yobs = y))\n",
        "\n",
        "h = plt.contour(aa, bb, vv)\n",
        "\n",
        "plt.scatter(a, b)\n",
        "plt.xlabel('a')\n",
        "plt.ylabel('b')\n"
      ],
      "execution_count": 0,
      "outputs": []
    },
    {
      "cell_type": "code",
      "metadata": {
        "id": "Y9zgQ-NoorGY",
        "colab_type": "code",
        "colab": {}
      },
      "source": [
        "# 中心化しないデータを使って等高線を使ってみてみる\n",
        "\n",
        "t = np.linspace(-4, 4, 64)\n",
        "aa, bb = np.meshgrid(t, t)\n",
        "\n",
        "\n",
        "# 指数関数を書いてみよう\n",
        "vv = np.exp( - E(aa, bb, xobs = xorg, yobs = yorg))\n",
        "\n",
        "h = plt.contour(aa, bb, vv)\n",
        "\n",
        "plt.scatter(a, b)\n",
        "plt.xlabel('a')\n",
        "plt.ylabel('b')"
      ],
      "execution_count": 0,
      "outputs": []
    }
  ]
}